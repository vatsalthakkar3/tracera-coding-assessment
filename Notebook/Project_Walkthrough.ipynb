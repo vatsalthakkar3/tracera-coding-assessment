{
 "cells": [
  {
   "cell_type": "markdown",
   "metadata": {},
   "source": [
    "# Walkthrough: TRACERA - ESG Data Extractor\n",
    "\n",
    "Welcome to this interactive walkthrough of the LLM-Powered Invoice Data Extractor project. This notebook will guide you through the entire pipeline, from setting up the environment to parsing PDFs, extracting data with a LLM, and saving the final structured output.\n",
    "\n",
    "You can execute each code cell sequentially to see the process in action."
   ]
  },
  {
   "cell_type": "markdown",
   "metadata": {},
   "source": [
    "## 1. Setup and Configuration\n",
    "\n",
    "First, we need to set up our environment. This involves:\n",
    "1. Adding the project's root directory to the system path to allow imports from the `src` folder.\n",
    "2. Loading the environment variables (like your API keys) from the `.env` file.\n",
    "3. Importing all the necessary modules and classes from the project."
   ]
  },
  {
   "cell_type": "code",
   "execution_count": 2,
   "metadata": {},
   "outputs": [
    {
     "name": "stdout",
     "output_type": "stream",
     "text": [
      "Project root added to path: /Users/vatsalthakkar/Desktop/VATSAL_THAKKAR/MS-CS-UGA/VT-Code/VTs-Lab/Coding-Challenge/tracera-coding-assessment\n"
     ]
    }
   ],
   "source": [
    "import sys\n",
    "from pathlib import Path\n",
    "import pandas as pd\n",
    "from dotenv import load_dotenv\n",
    "\n",
    "# Add the project root\n",
    "project_root = Path.cwd().parent\n",
    "if str(project_root) not in sys.path:\n",
    "    sys.path.append(str(project_root))\n",
    "\n",
    "# Load environment variables from .env file\n",
    "load_dotenv(project_root / \".env\")\n",
    "\n",
    "print(f\"Project root added to path: {project_root}\")"
   ]
  },
  {
   "cell_type": "code",
   "execution_count": 3,
   "metadata": {},
   "outputs": [
    {
     "name": "stdout",
     "output_type": "stream",
     "text": [
      "Successfully imported project modules.\n"
     ]
    }
   ],
   "source": [
    "# Import all the necessary classes and configuration from our source code\n",
    "from src import config\n",
    "from src.utils.pdf_parser import PDFParser\n",
    "from src.utils.llm_service import LLMService\n",
    "from src.utils.data_extractor import DataExtractor\n",
    "from src.utils.file_handler import get_pdf_files\n",
    "\n",
    "print(\"Successfully imported project modules.\")"
   ]
  },
  {
   "cell_type": "markdown",
   "metadata": {},
   "source": [
    "### Configuration\n",
    "\n",
    "Let's verify that our configuration is loaded correctly. The `src/config.py` file manages all our project paths and API keys."
   ]
  },
  {
   "cell_type": "code",
   "execution_count": 12,
   "metadata": {},
   "outputs": [
    {
     "name": "stdout",
     "output_type": "stream",
     "text": [
      "Using LLM Model            : gemini-2.5-flash\n",
      "Documents Directory        : /Users/vatsalthakkar/Desktop/VATSAL_THAKKAR/MS-CS-UGA/VT-Code/VTs-Lab/Coding-Challenge/tracera-coding-assessment/data\n",
      "Output CSV Path            : /Users/vatsalthakkar/Desktop/VATSAL_THAKKAR/MS-CS-UGA/VT-Code/VTs-Lab/Coding-Challenge/tracera-coding-assessment/output/extracted_data.csv\n",
      "Llama Cloud API Key is set : True\n",
      "Gemini API Key is set      : True\n"
     ]
    }
   ],
   "source": [
    "print(f\"Using LLM Model            : {config.LLM_MODEL_NAME}\")\n",
    "print(f\"Documents Directory        : {config.DOCUMENTS_DIR}\")\n",
    "print(f\"Output CSV Path            : {config.OUTPUT_CSV_PATH}\")\n",
    "print(f\"Llama Cloud API Key is set : {bool(config.LLAMA_CLOUD_API_KEY)}\")\n",
    "print(f\"Gemini API Key is set      : {bool(config.GEMINI_API_KEY)}\")"
   ]
  },
  {
   "cell_type": "markdown",
   "metadata": {},
   "source": [
    "## 2. Step-by-Step Extraction on a Sample PDF\n",
    "\n",
    "Now, let's run the pipeline step-by-step on a single document to understand how each component works."
   ]
  },
  {
   "cell_type": "markdown",
   "metadata": {},
   "source": [
    "### Step 2.1: Select a Sample PDF"
   ]
  },
  {
   "cell_type": "code",
   "execution_count": 5,
   "metadata": {},
   "outputs": [
    {
     "name": "stdout",
     "output_type": "stream",
     "text": [
      "Selected sample file: test11.pdf\n"
     ]
    }
   ],
   "source": [
    "pdf_files = get_pdf_files(config.DOCUMENTS_DIR)\n",
    "if not pdf_files:\n",
    "    raise FileNotFoundError(\n",
    "        f\"No PDF files found in {config.DOCUMENTS_DIR}. Please add some PDFs to run this notebook.\"\n",
    "    )\n",
    "\n",
    "sample_pdf_path = pdf_files[0]\n",
    "print(f\"Selected sample file: {sample_pdf_path.name}\")"
   ]
  },
  {
   "cell_type": "markdown",
   "metadata": {},
   "source": [
    "### Step 2.2: Parse PDF to Markdown using LlamaParse\n",
    "\n",
    "The `PDFParser` class is responsible for taking a raw PDF file and converting it into clean, structured Markdown text. It uses the LlamaParse API for its high-fidelity OCR and layout recognition capabilities.\n",
    "\n",
    "**Caching:** This step is expensive, so the parser automatically caches the result in the `cache/` directory. If you run this cell again for the same file, it will load from the cache instantly instead of calling the API."
   ]
  },
  {
   "cell_type": "code",
   "execution_count": 6,
   "metadata": {},
   "outputs": [
    {
     "name": "stdout",
     "output_type": "stream",
     "text": [
      "Loading from cache: /Users/vatsalthakkar/Desktop/VATSAL_THAKKAR/MS-CS-UGA/VT-Code/VTs-Lab/Coding-Challenge/tracera-coding-assessment/cache/test11_cff30a58e73a613041f4b8855505635a.md\n",
      "--- Parsed Markdown (first 1000 characters) ---\n",
      "    \n",
      "TAX INVOICE\n",
      "\n",
      "# Invoice No: 9817263870123\n",
      "\n",
      "Date: 15/03/2024\n",
      "\n",
      "Page: 1 of 1\n",
      "\n",
      "| Description                          | Date From  | Date To    | Net Amount | GST   | Gross Amount |\n",
      "| ------------------------------------ | ---------- | ---------- | ---------- | ----- | ------------ |\n",
      "| Recharge: Watercare Acc No 535633803 | 02/02/2024 | 04/03/2024 | 98.12      | 14.72 | 112.84       |\n",
      "\n",
      "Total Amount ($NZD): $98.12\n",
      "\n",
      "GST: $14.72\n",
      "\n",
      "Gross Amount: $112.84\n",
      "\n",
      "Email remittance to: accountsreceivablenz@goodman.com\n",
      "\n",
      "Tax Invoice No: 9817263870123\n",
      "\n",
      "Due Date: 02/04/2024\n",
      "\n",
      "Total Amount Due ($NZD): $112.84\n",
      "\n",
      "\n",
      "\n",
      "\n",
      "\n",
      "# Statement and tax invoice\n",
      "\n",
      "Account number: 5356338-03\n",
      "\n",
      "Watercare Services Limited\n",
      "\n",
      "www.watercare.co.nz\n",
      "\n",
      "Private Bag 94010\n",
      "\n",
      "Auckland 2241\n",
      "\n",
      "Customer Service: commercialcustomers@water.co.nz\n",
      "\n",
      "Urgent Faults 24/7: 09 442 2222 (option 1)\n",
      "\n",
      "Invoice date: 04 Mar 2024\n",
      "\n",
      "Due date: 25 Mar 2024\n",
      "\n",
      "Total due: $ 112.84\n",
      "\n",
      "# Summary\n",
      "\n",
      "| Property location   | 143 Hopkins Ave East |\n",
      "| ------------------- | ----------------\n",
      "    ...\n"
     ]
    }
   ],
   "source": [
    "pdf_parser = PDFParser()\n",
    "markdown_text = pdf_parser.parse_document(sample_pdf_path)\n",
    "\n",
    "print(f\"\"\"--- Parsed Markdown (first 1000 characters) ---\n",
    "    {markdown_text[:1000]}\n",
    "...\"\"\")"
   ]
  },
  {
   "cell_type": "markdown",
   "metadata": {},
   "source": [
    "### Step 2.3: Extract Structured Data with the LLM\n",
    "\n",
    "Next, the `LLMService` takes the clean Markdown text and sends it to the configured LLM (Gemini or OpenAI) with a specific prompt. The prompt instructs the model to extract the desired fields according to the Pydantic schema defined in `src/schemas.py`.\n",
    "\n",
    "This is the raw output from the model, before any cleaning or consolidation."
   ]
  },
  {
   "cell_type": "code",
   "execution_count": 7,
   "metadata": {},
   "outputs": [
    {
     "name": "stdout",
     "output_type": "stream",
     "text": [
      "Using Gemini LLM\n",
      "--- Raw Extracted Records ---\n",
      "{\n",
      "  \"account_number\": \"5356338-03\",\n",
      "  \"meter_number\": \"M06A213583\",\n",
      "  \"from_date\": \"2024-02-04\",\n",
      "  \"to_date\": \"2024-03-04\",\n",
      "  \"usage\": \"11.00\",\n",
      "  \"cost\": \"112.84\"\n",
      "}\n"
     ]
    }
   ],
   "source": [
    "llm_service = LLMService()\n",
    "raw_extraction_result = llm_service.extract_structured_data(markdown_text)\n",
    "\n",
    "print(\"--- Raw Extracted Records ---\")\n",
    "for record in raw_extraction_result.records:\n",
    "    print(record.model_dump_json(indent=2))"
   ]
  },
  {
   "cell_type": "markdown",
   "metadata": {},
   "source": [
    "### Step 2.4: Consolidate and Clean Records\n",
    "\n",
    "Often, an LLM might find the same information in multiple places in a document, leading to duplicate or partial records. The consolidation step sends all the raw extracted records back to the LLM with a new prompt, asking it to merge duplicates, fill in missing values, and produce a final, clean list of unique records."
   ]
  },
  {
   "cell_type": "code",
   "execution_count": 8,
   "metadata": {},
   "outputs": [
    {
     "name": "stdout",
     "output_type": "stream",
     "text": [
      "   Calling LLM to consolidate results...\n",
      "--- Consolidated & Cleaned Records ---\n",
      "{\n",
      "  \"account_number\": \"5356338-03\",\n",
      "  \"meter_number\": \"M06A213583\",\n",
      "  \"from_date\": \"2024-02-04\",\n",
      "  \"to_date\": \"2024-03-04\",\n",
      "  \"usage\": \"11.00\",\n",
      "  \"cost\": \"112.84\"\n",
      "}\n"
     ]
    }
   ],
   "source": [
    "consolidated_result = llm_service.consolidate_records(raw_extraction_result.records)\n",
    "\n",
    "print(\"--- Consolidated & Cleaned Records ---\")\n",
    "for record in consolidated_result.records:\n",
    "    print(record.model_dump_json(indent=2))"
   ]
  },
  {
   "cell_type": "markdown",
   "metadata": {},
   "source": [
    "## 3. Running the End-to-End Pipeline\n",
    "\n",
    "The `DataExtractor` class orchestrates the entire process for a single file. Let's use it to see the complete, formatted output for our sample PDF."
   ]
  },
  {
   "cell_type": "code",
   "execution_count": 9,
   "metadata": {},
   "outputs": [
    {
     "name": "stdout",
     "output_type": "stream",
     "text": [
      "Using Gemini LLM\n",
      "-> Starting extraction for: test11.pdf\n",
      "Loading from cache: /Users/vatsalthakkar/Desktop/VATSAL_THAKKAR/MS-CS-UGA/VT-Code/VTs-Lab/Coding-Challenge/tracera-coding-assessment/cache/test11_cff30a58e73a613041f4b8855505635a.md\n",
      "   => Document Parsing completed for test11.pdf\n",
      "   Calling LLM to consolidate results...\n",
      "{'Account Number': '5356338-03', 'Meter Number': 'M06A213583', 'From Date': '2024-02-04', 'To Date': '2024-03-04', 'Usage': '11.00', 'Cost': '112.84', 'Filename': 'test11'}\n",
      "   => Found 1 records in test11.pdf\n",
      "--- Final Formatted Output for a Single File ---\n"
     ]
    },
    {
     "data": {
      "text/html": [
       "<div>\n",
       "<style scoped>\n",
       "    .dataframe tbody tr th:only-of-type {\n",
       "        vertical-align: middle;\n",
       "    }\n",
       "\n",
       "    .dataframe tbody tr th {\n",
       "        vertical-align: top;\n",
       "    }\n",
       "\n",
       "    .dataframe thead th {\n",
       "        text-align: right;\n",
       "    }\n",
       "</style>\n",
       "<table border=\"1\" class=\"dataframe\">\n",
       "  <thead>\n",
       "    <tr style=\"text-align: right;\">\n",
       "      <th></th>\n",
       "      <th>Account Number</th>\n",
       "      <th>Meter Number</th>\n",
       "      <th>From Date</th>\n",
       "      <th>To Date</th>\n",
       "      <th>Usage</th>\n",
       "      <th>Cost</th>\n",
       "      <th>Filename</th>\n",
       "    </tr>\n",
       "  </thead>\n",
       "  <tbody>\n",
       "    <tr>\n",
       "      <th>0</th>\n",
       "      <td>5356338-03</td>\n",
       "      <td>M06A213583</td>\n",
       "      <td>2024-02-04</td>\n",
       "      <td>2024-03-04</td>\n",
       "      <td>11.00</td>\n",
       "      <td>112.84</td>\n",
       "      <td>test11</td>\n",
       "    </tr>\n",
       "  </tbody>\n",
       "</table>\n",
       "</div>"
      ],
      "text/plain": [
       "  Account Number Meter Number   From Date     To Date  Usage    Cost Filename\n",
       "0     5356338-03   M06A213583  2024-02-04  2024-03-04  11.00  112.84   test11"
      ]
     },
     "execution_count": 9,
     "metadata": {},
     "output_type": "execute_result"
    }
   ],
   "source": [
    "extractor = DataExtractor()\n",
    "final_records_for_file = extractor.extract_from_file(sample_pdf_path)\n",
    "\n",
    "print(\"--- Final Formatted Output for a Single File ---\")\n",
    "pd.DataFrame(final_records_for_file)"
   ]
  },
  {
   "cell_type": "markdown",
   "metadata": {},
   "source": [
    "## 4. Running the Full Pipeline on All Documents\n",
    "\n",
    "Finally, let's simulate the `main.py` script by iterating through all the PDFs in the `data/` directory, extracting the data from each, and collecting the results into a single pandas DataFrame."
   ]
  },
  {
   "cell_type": "code",
   "execution_count": 11,
   "metadata": {},
   "outputs": [
    {
     "name": "stdout",
     "output_type": "stream",
     "text": [
      "Using Gemini LLM\n",
      "-> Starting extraction for: test11.pdf\n",
      "Loading from cache: /Users/vatsalthakkar/Desktop/VATSAL_THAKKAR/MS-CS-UGA/VT-Code/VTs-Lab/Coding-Challenge/tracera-coding-assessment/cache/test11_cff30a58e73a613041f4b8855505635a.md\n",
      "   => Document Parsing completed for test11.pdf\n",
      "   Calling LLM to consolidate results...\n",
      "{'Account Number': '5356338-03', 'Meter Number': 'M06A213583', 'From Date': '2024-02-04', 'To Date': '2024-03-04', 'Usage': '11.00', 'Cost': '112.84', 'Filename': 'test11'}\n",
      "   => Found 1 records in test11.pdf\n",
      "-> Starting extraction for: test10.pdf\n",
      "Loading from cache: /Users/vatsalthakkar/Desktop/VATSAL_THAKKAR/MS-CS-UGA/VT-Code/VTs-Lab/Coding-Challenge/tracera-coding-assessment/cache/test10_9e7e00720a64915dbe9cf949b0932484.md\n",
      "   => Document Parsing completed for test10.pdf\n",
      "   Calling LLM to consolidate results...\n",
      "{'Account Number': '2843619', 'Meter Number': '95417343', 'From Date': '2024-02-01', 'To Date': '2024-02-10', 'Usage': '657.23', 'Cost': '647,280.93', 'Filename': 'test10'}\n",
      "   => Found 1 records in test10.pdf\n",
      "-> Starting extraction for: test12.pdf\n",
      "Loading from cache: /Users/vatsalthakkar/Desktop/VATSAL_THAKKAR/MS-CS-UGA/VT-Code/VTs-Lab/Coding-Challenge/tracera-coding-assessment/cache/test12_380fe9c0e6e0626ce32849dc88fc8e44.md\n",
      "   => Document Parsing completed for test12.pdf\n",
      "   Calling LLM to consolidate results...\n",
      "{'Account Number': '16134528', 'Meter Number': 'WF69FPO', 'From Date': '2024-06-14', 'To Date': '2024-06-14', 'Usage': '47.40', 'Cost': '71.16', 'Filename': 'test12'}\n",
      "{'Account Number': '16134528', 'Meter Number': 'WF69FEJ', 'From Date': '2024-06-13', 'To Date': '2024-06-13', 'Usage': '1.00', 'Cost': '28.99', 'Filename': 'test12'}\n",
      "{'Account Number': '16134528', 'Meter Number': 'WF69FEJ', 'From Date': '2024-06-13', 'To Date': '2024-06-13', 'Usage': '58.22', 'Cost': '87.42', 'Filename': 'test12'}\n",
      "   => Found 3 records in test12.pdf\n",
      "-> Starting extraction for: test4.pdf\n",
      "Loading from cache: /Users/vatsalthakkar/Desktop/VATSAL_THAKKAR/MS-CS-UGA/VT-Code/VTs-Lab/Coding-Challenge/tracera-coding-assessment/cache/test4_3baff9abdd20aa8bd4820c1b9290a17c.md\n",
      "   => Document Parsing completed for test4.pdf\n",
      "   Calling LLM to consolidate results...\n",
      "{'Account Number': '982 121 827 236', 'Meter Number': 'A872397620', 'From Date': '2024-04-16', 'To Date': '2024-05-14', 'Usage': '233,348.00', 'Cost': '26,792.54', 'Filename': 'test4'}\n",
      "   => Found 1 records in test4.pdf\n",
      "-> Starting extraction for: test5.pdf\n",
      "Loading from cache: /Users/vatsalthakkar/Desktop/VATSAL_THAKKAR/MS-CS-UGA/VT-Code/VTs-Lab/Coding-Challenge/tracera-coding-assessment/cache/test5_c1d0077b4bc131e1df44e30a34fbd3db.md\n",
      "   => Document Parsing completed for test5.pdf\n",
      "   Calling LLM to consolidate results...\n",
      "{'Account Number': '113423700', 'Meter Number': '2179421', 'From Date': '2023-10-11', 'To Date': '2023-11-12', 'Usage': '639.00', 'Cost': '31.70', 'Filename': 'test5'}\n",
      "   => Found 1 records in test5.pdf\n",
      "-> Starting extraction for: test7.pdf\n",
      "Loading from cache: /Users/vatsalthakkar/Desktop/VATSAL_THAKKAR/MS-CS-UGA/VT-Code/VTs-Lab/Coding-Challenge/tracera-coding-assessment/cache/test7_e492e9827eb06858ff8dd1d5aff431a1.md\n",
      "   => Document Parsing completed for test7.pdf\n",
      "   Calling LLM to consolidate results...\n",
      "{'Account Number': '8677 0264 22', 'Meter Number': '-', 'From Date': '2024-05-08', 'To Date': '2024-06-07', 'Usage': '8.00', 'Cost': '141.08', 'Filename': 'test7'}\n",
      "   => Found 1 records in test7.pdf\n",
      "-> Starting extraction for: test6.pdf\n",
      "Loading from cache: /Users/vatsalthakkar/Desktop/VATSAL_THAKKAR/MS-CS-UGA/VT-Code/VTs-Lab/Coding-Challenge/tracera-coding-assessment/cache/test6_aa984141440e170db35dda4b5b46cd4c.md\n",
      "   => Document Parsing completed for test6.pdf\n",
      "   Calling LLM to consolidate results...\n",
      "{'Account Number': '416957143135', 'Meter Number': '1087677', 'From Date': '2022-12-30', 'To Date': '2023-01-30', 'Usage': '1,384.50', 'Cost': '20,819.52', 'Filename': 'test6'}\n",
      "   => Found 1 records in test6.pdf\n",
      "-> Starting extraction for: test2.pdf\n",
      "Loading from cache: /Users/vatsalthakkar/Desktop/VATSAL_THAKKAR/MS-CS-UGA/VT-Code/VTs-Lab/Coding-Challenge/tracera-coding-assessment/cache/test2_45c531d366063575854d95182c203b16.md\n",
      "   => Document Parsing completed for test2.pdf\n",
      "   Calling LLM to consolidate results...\n",
      "An error occurred during LLM invocation: Invalid json output: \n",
      "For troubleshooting, visit: https://python.langchain.com/docs/troubleshooting/errors/OUTPUT_PARSING_FAILURE \n",
      "   => Found 0 records in test2.pdf\n",
      "-> Starting extraction for: test3.pdf\n",
      "Loading from cache: /Users/vatsalthakkar/Desktop/VATSAL_THAKKAR/MS-CS-UGA/VT-Code/VTs-Lab/Coding-Challenge/tracera-coding-assessment/cache/test3_60d3b462f8f25c40756605e36f4f3c5e.md\n",
      "   => Document Parsing completed for test3.pdf\n",
      "   Calling LLM to consolidate results...\n",
      "{'Account Number': '10221125', 'Meter Number': 'A9128362', 'From Date': '2024-02-01', 'To Date': '2024-02-29', 'Usage': '20,679.80', 'Cost': '7,037.81', 'Filename': 'test3'}\n",
      "   => Found 1 records in test3.pdf\n",
      "-> Starting extraction for: test1.pdf\n",
      "Loading from cache: /Users/vatsalthakkar/Desktop/VATSAL_THAKKAR/MS-CS-UGA/VT-Code/VTs-Lab/Coding-Challenge/tracera-coding-assessment/cache/test1_76e40f6009e4490ae78c217c250d4331.md\n",
      "   => Document Parsing completed for test1.pdf\n",
      "   Calling LLM to consolidate results...\n",
      "{'Account Number': '7851218574918', 'Meter Number': 'V349N-005002', 'From Date': '2023-01-23', 'To Date': '2023-02-20', 'Usage': '105,319.00', 'Cost': '4,582.36', 'Filename': 'test1'}\n",
      "   => Found 1 records in test1.pdf\n",
      "-> Starting extraction for: test8.pdf\n",
      "Loading from cache: /Users/vatsalthakkar/Desktop/VATSAL_THAKKAR/MS-CS-UGA/VT-Code/VTs-Lab/Coding-Challenge/tracera-coding-assessment/cache/test8_787eaacf6529f722f0e0d8a400076bef.md\n",
      "   => Document Parsing completed for test8.pdf\n",
      "   Calling LLM to consolidate results...\n",
      "{'Account Number': '082317500072', 'Meter Number': '272DA2', 'From Date': '2023-01-31', 'To Date': '2023-02-28', 'Usage': '50,100.00', 'Cost': '97,301.24', 'Filename': 'test8'}\n",
      "   => Found 1 records in test8.pdf\n",
      "-> Starting extraction for: test9.pdf\n",
      "Loading from cache: /Users/vatsalthakkar/Desktop/VATSAL_THAKKAR/MS-CS-UGA/VT-Code/VTs-Lab/Coding-Challenge/tracera-coding-assessment/cache/test9_8099b848c6dc7c66828374a3a6d17646.md\n",
      "   => Document Parsing completed for test9.pdf\n",
      "   Calling LLM to consolidate results...\n",
      "{'Account Number': '9827364', 'Meter Number': '6113200029', 'From Date': '2022-05-26', 'To Date': '2022-06-29', 'Usage': '2,083,200.00', 'Cost': '139,273.72', 'Filename': 'test9'}\n",
      "   => Found 1 records in test9.pdf\n",
      "--- Final Combined DataFrame from All PDFs ---\n"
     ]
    },
    {
     "data": {
      "text/html": [
       "<div>\n",
       "<style scoped>\n",
       "    .dataframe tbody tr th:only-of-type {\n",
       "        vertical-align: middle;\n",
       "    }\n",
       "\n",
       "    .dataframe tbody tr th {\n",
       "        vertical-align: top;\n",
       "    }\n",
       "\n",
       "    .dataframe thead th {\n",
       "        text-align: right;\n",
       "    }\n",
       "</style>\n",
       "<table border=\"1\" class=\"dataframe\">\n",
       "  <thead>\n",
       "    <tr style=\"text-align: right;\">\n",
       "      <th></th>\n",
       "      <th>Account Number</th>\n",
       "      <th>Meter Number</th>\n",
       "      <th>From Date</th>\n",
       "      <th>To Date</th>\n",
       "      <th>Usage</th>\n",
       "      <th>Cost</th>\n",
       "      <th>Filename</th>\n",
       "    </tr>\n",
       "  </thead>\n",
       "  <tbody>\n",
       "    <tr>\n",
       "      <th>0</th>\n",
       "      <td>5356338-03</td>\n",
       "      <td>M06A213583</td>\n",
       "      <td>2024-02-04</td>\n",
       "      <td>2024-03-04</td>\n",
       "      <td>11.00</td>\n",
       "      <td>112.84</td>\n",
       "      <td>test11</td>\n",
       "    </tr>\n",
       "    <tr>\n",
       "      <th>1</th>\n",
       "      <td>2843619</td>\n",
       "      <td>95417343</td>\n",
       "      <td>2024-02-01</td>\n",
       "      <td>2024-02-10</td>\n",
       "      <td>657.23</td>\n",
       "      <td>647,280.93</td>\n",
       "      <td>test10</td>\n",
       "    </tr>\n",
       "    <tr>\n",
       "      <th>2</th>\n",
       "      <td>16134528</td>\n",
       "      <td>WF69FPO</td>\n",
       "      <td>2024-06-14</td>\n",
       "      <td>2024-06-14</td>\n",
       "      <td>47.40</td>\n",
       "      <td>71.16</td>\n",
       "      <td>test12</td>\n",
       "    </tr>\n",
       "    <tr>\n",
       "      <th>3</th>\n",
       "      <td>16134528</td>\n",
       "      <td>WF69FEJ</td>\n",
       "      <td>2024-06-13</td>\n",
       "      <td>2024-06-13</td>\n",
       "      <td>1.00</td>\n",
       "      <td>28.99</td>\n",
       "      <td>test12</td>\n",
       "    </tr>\n",
       "    <tr>\n",
       "      <th>4</th>\n",
       "      <td>16134528</td>\n",
       "      <td>WF69FEJ</td>\n",
       "      <td>2024-06-13</td>\n",
       "      <td>2024-06-13</td>\n",
       "      <td>58.22</td>\n",
       "      <td>87.42</td>\n",
       "      <td>test12</td>\n",
       "    </tr>\n",
       "    <tr>\n",
       "      <th>5</th>\n",
       "      <td>982 121 827 236</td>\n",
       "      <td>A872397620</td>\n",
       "      <td>2024-04-16</td>\n",
       "      <td>2024-05-14</td>\n",
       "      <td>233,348.00</td>\n",
       "      <td>26,792.54</td>\n",
       "      <td>test4</td>\n",
       "    </tr>\n",
       "    <tr>\n",
       "      <th>6</th>\n",
       "      <td>113423700</td>\n",
       "      <td>2179421</td>\n",
       "      <td>2023-10-11</td>\n",
       "      <td>2023-11-12</td>\n",
       "      <td>639.00</td>\n",
       "      <td>31.70</td>\n",
       "      <td>test5</td>\n",
       "    </tr>\n",
       "    <tr>\n",
       "      <th>7</th>\n",
       "      <td>8677 0264 22</td>\n",
       "      <td>-</td>\n",
       "      <td>2024-05-08</td>\n",
       "      <td>2024-06-07</td>\n",
       "      <td>8.00</td>\n",
       "      <td>141.08</td>\n",
       "      <td>test7</td>\n",
       "    </tr>\n",
       "    <tr>\n",
       "      <th>8</th>\n",
       "      <td>416957143135</td>\n",
       "      <td>1087677</td>\n",
       "      <td>2022-12-30</td>\n",
       "      <td>2023-01-30</td>\n",
       "      <td>1,384.50</td>\n",
       "      <td>20,819.52</td>\n",
       "      <td>test6</td>\n",
       "    </tr>\n",
       "    <tr>\n",
       "      <th>9</th>\n",
       "      <td>10221125</td>\n",
       "      <td>A9128362</td>\n",
       "      <td>2024-02-01</td>\n",
       "      <td>2024-02-29</td>\n",
       "      <td>20,679.80</td>\n",
       "      <td>7,037.81</td>\n",
       "      <td>test3</td>\n",
       "    </tr>\n",
       "    <tr>\n",
       "      <th>10</th>\n",
       "      <td>7851218574918</td>\n",
       "      <td>V349N-005002</td>\n",
       "      <td>2023-01-23</td>\n",
       "      <td>2023-02-20</td>\n",
       "      <td>105,319.00</td>\n",
       "      <td>4,582.36</td>\n",
       "      <td>test1</td>\n",
       "    </tr>\n",
       "    <tr>\n",
       "      <th>11</th>\n",
       "      <td>082317500072</td>\n",
       "      <td>272DA2</td>\n",
       "      <td>2023-01-31</td>\n",
       "      <td>2023-02-28</td>\n",
       "      <td>50,100.00</td>\n",
       "      <td>97,301.24</td>\n",
       "      <td>test8</td>\n",
       "    </tr>\n",
       "    <tr>\n",
       "      <th>12</th>\n",
       "      <td>9827364</td>\n",
       "      <td>6113200029</td>\n",
       "      <td>2022-05-26</td>\n",
       "      <td>2022-06-29</td>\n",
       "      <td>2,083,200.00</td>\n",
       "      <td>139,273.72</td>\n",
       "      <td>test9</td>\n",
       "    </tr>\n",
       "  </tbody>\n",
       "</table>\n",
       "</div>"
      ],
      "text/plain": [
       "     Account Number  Meter Number   From Date     To Date         Usage  \\\n",
       "0        5356338-03    M06A213583  2024-02-04  2024-03-04         11.00   \n",
       "1           2843619      95417343  2024-02-01  2024-02-10        657.23   \n",
       "2          16134528       WF69FPO  2024-06-14  2024-06-14         47.40   \n",
       "3          16134528       WF69FEJ  2024-06-13  2024-06-13          1.00   \n",
       "4          16134528       WF69FEJ  2024-06-13  2024-06-13         58.22   \n",
       "5   982 121 827 236    A872397620  2024-04-16  2024-05-14    233,348.00   \n",
       "6         113423700       2179421  2023-10-11  2023-11-12        639.00   \n",
       "7      8677 0264 22             -  2024-05-08  2024-06-07          8.00   \n",
       "8      416957143135       1087677  2022-12-30  2023-01-30      1,384.50   \n",
       "9          10221125      A9128362  2024-02-01  2024-02-29     20,679.80   \n",
       "10    7851218574918  V349N-005002  2023-01-23  2023-02-20    105,319.00   \n",
       "11     082317500072        272DA2  2023-01-31  2023-02-28     50,100.00   \n",
       "12          9827364    6113200029  2022-05-26  2022-06-29  2,083,200.00   \n",
       "\n",
       "          Cost Filename  \n",
       "0       112.84   test11  \n",
       "1   647,280.93   test10  \n",
       "2        71.16   test12  \n",
       "3        28.99   test12  \n",
       "4        87.42   test12  \n",
       "5    26,792.54    test4  \n",
       "6        31.70    test5  \n",
       "7       141.08    test7  \n",
       "8    20,819.52    test6  \n",
       "9     7,037.81    test3  \n",
       "10    4,582.36    test1  \n",
       "11   97,301.24    test8  \n",
       "12  139,273.72    test9  "
      ]
     },
     "execution_count": 11,
     "metadata": {},
     "output_type": "execute_result"
    }
   ],
   "source": [
    "all_pdf_files = get_pdf_files(config.DOCUMENTS_DIR)\n",
    "all_extracted_records = []\n",
    "extractor = DataExtractor()\n",
    "\n",
    "for file_path in all_pdf_files:\n",
    "    try:\n",
    "        records = extractor.extract_from_file(file_path)\n",
    "        all_extracted_records.extend(records)\n",
    "    except Exception as e:\n",
    "        print(f\"!! An unexpected error occurred while processing {file_path.name}: {e}\")\n",
    "\n",
    "final_df = pd.DataFrame(all_extracted_records)\n",
    "\n",
    "print(\"--- Final Combined DataFrame from All PDFs ---\")\n",
    "final_df"
   ]
  },
  {
   "cell_type": "markdown",
   "metadata": {},
   "source": [
    "## 5. Conclusion\n",
    "\n",
    "This notebook has demonstrated the complete, step-by-step workflow of the data extraction pipeline. We have seen how the system:\n",
    "\n",
    "- Parses PDFs into clean markdown, using a cache to improve performance.\n",
    "- Uses an LLM to perform initial data extraction based on a defined schema.\n",
    "- Leverages a second LLM call to intelligently consolidate and de-duplicate the results.\n",
    "- Orchestrates the entire process to handle multiple files and produce a clean, structured CSV file.\n",
    "\n",
    "You can now modify the code cells above to experiment with different files or inspect the outputs at each stage."
   ]
  }
 ],
 "metadata": {
  "kernelspec": {
   "display_name": ".venv",
   "language": "python",
   "name": "python3"
  },
  "language_info": {
   "codemirror_mode": {
    "name": "ipython",
    "version": 3
   },
   "file_extension": ".py",
   "mimetype": "text/x-python",
   "name": "python",
   "nbconvert_exporter": "python",
   "pygments_lexer": "ipython3",
   "version": "3.12.11"
  }
 },
 "nbformat": 4,
 "nbformat_minor": 4
}
